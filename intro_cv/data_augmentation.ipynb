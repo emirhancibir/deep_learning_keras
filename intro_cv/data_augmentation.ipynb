{
 "cells": [
  {
   "cell_type": "code",
   "execution_count": 1,
   "id": "9fadc570",
   "metadata": {},
   "outputs": [],
   "source": [
    "# library \n",
    "from keras.preprocessing.image import load_img, img_to_array, ImageDataGenerator"
   ]
  },
  {
   "cell_type": "code",
   "execution_count": null,
   "id": "9f884049",
   "metadata": {},
   "outputs": [],
   "source": [
    "img = load_img(\"datasets/jedi/yoda.jpg\")\n",
    "# print(type(img))\n",
    "\n",
    "img_arr = img_to_array(img)\n",
    "print(\"shaped :\",img_arr.shape)\n",
    "\n",
    "reshaped_img = img_arr.reshape((1,)+img_arr.shape)\n",
    "print(\"reshaped: \",reshaped_img.shape)\n",
    "\n",
    "\n"
   ]
  },
  {
   "cell_type": "code",
   "execution_count": null,
   "id": "fcff2155",
   "metadata": {},
   "outputs": [],
   "source": [
    "data_generator = ImageDataGenerator(rotation_range=75,\n",
    "                                  width_shift_range= 0.2,\n",
    "                                  height_shift_range=0.2,\n",
    "                                  zoom_range=0.2,horizontal_flip=True,\n",
    "                                  fill_mode=\"nearest\")\n",
    "# fill_mode resimdeki kaymada boş kalan yerleri yakın değerle görüntüyü pek bozmadan doldurur"
   ]
  },
  {
   "cell_type": "code",
   "execution_count": null,
   "id": "7d6da399",
   "metadata": {
    "scrolled": true
   },
   "outputs": [],
   "source": [
    "counter = 0\n",
    "for i in data_generator.flow(reshaped_img,batch_size=1,\n",
    "                            save_to_dir=\"datasets/jedi/augmented_jedi\",\n",
    "                            save_prefix=\"yoda\",\n",
    "                            save_format=\"jpeg\"):\n",
    "    counter += 1\n",
    "    print(counter)\n",
    "    if counter == 25:\n",
    "        break"
   ]
  },
  {
   "cell_type": "code",
   "execution_count": 6,
   "id": "f2535140",
   "metadata": {},
   "outputs": [],
   "source": [
    "data_generator_dir = ImageDataGenerator(rotation_range=75,\n",
    "                                          width_shift_range= 0.2,\n",
    "                                          height_shift_range=0.2,\n",
    "                                          zoom_range=0.2,\n",
    "                                          horizontal_flip=True,\n",
    "                                          vertical_flip=True,\n",
    "                                          fill_mode=\"nearest\")\n"
   ]
  },
  {
   "cell_type": "code",
   "execution_count": 7,
   "id": "05434962",
   "metadata": {},
   "outputs": [
    {
     "name": "stdout",
     "output_type": "stream",
     "text": [
      "Found 2 images belonging to 2 classes.\n"
     ]
    }
   ],
   "source": [
    "counter_x = 0\n",
    "for i in data_generator_dir.flow_from_directory(\"datasets\\jedi\\jedi_lena\",\n",
    "                                batch_size=1,\n",
    "                                color_mode = \"rgb\",\n",
    "                                save_to_dir=\"datasets/jedi/augmented_jedi_lena\",\n",
    "                                save_format=\"jpeg\"\n",
    "                                ):\n",
    "    counter_x+=1\n",
    "    if counter_x == 25:\n",
    "        break"
   ]
  },
  {
   "cell_type": "code",
   "execution_count": null,
   "id": "6e5b3304",
   "metadata": {},
   "outputs": [],
   "source": []
  }
 ],
 "metadata": {
  "kernelspec": {
   "display_name": "Python 3 (ipykernel)",
   "language": "python",
   "name": "python3"
  },
  "language_info": {
   "codemirror_mode": {
    "name": "ipython",
    "version": 3
   },
   "file_extension": ".py",
   "mimetype": "text/x-python",
   "name": "python",
   "nbconvert_exporter": "python",
   "pygments_lexer": "ipython3",
   "version": "3.9.7"
  }
 },
 "nbformat": 4,
 "nbformat_minor": 5
}
