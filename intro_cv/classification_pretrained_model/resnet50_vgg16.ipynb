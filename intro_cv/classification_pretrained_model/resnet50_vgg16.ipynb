{
 "cells": [
  {
   "cell_type": "markdown",
   "id": "ce3a7632",
   "metadata": {},
   "source": [
    "## ResNet50"
   ]
  },
  {
   "cell_type": "code",
   "execution_count": 5,
   "id": "5accb0e6",
   "metadata": {},
   "outputs": [],
   "source": [
    "from tensorflow.keras.applications.resnet50 import ResNet50\n",
    "from tensorflow.keras.applications.resnet50 import preprocess_input, decode_predictions\n",
    "from tensorflow.keras.preprocessing import image\n",
    "import numpy as np\n",
    "import cv2"
   ]
  },
  {
   "cell_type": "code",
   "execution_count": 6,
   "id": "d8f58452",
   "metadata": {},
   "outputs": [],
   "source": [
    "model = ResNet50(weights='imagenet')"
   ]
  },
  {
   "cell_type": "code",
   "execution_count": 7,
   "id": "31265726",
   "metadata": {},
   "outputs": [],
   "source": [
    "test_path = \"elephant.jpg\"\n",
    "img = image.load_img(test_path, target_size=(224,224))\n",
    "img = image.img_to_array(img)\n",
    "img = np.expand_dims(img,axis=0) # matrisi 4. boyuta çıkarmak için\n",
    "img = preprocess_input(img)\n",
    "\n",
    "prediction = model.predict(img)\n"
   ]
  },
  {
   "cell_type": "code",
   "execution_count": 8,
   "id": "2b498218",
   "metadata": {},
   "outputs": [
    {
     "data": {
      "text/plain": [
       "[('n01871265', 'tusker', 0.7192251),\n",
       " ('n02504458', 'African_elephant', 0.25950912),\n",
       " ('n02504013', 'Indian_elephant', 0.021244658)]"
      ]
     },
     "execution_count": 8,
     "metadata": {},
     "output_type": "execute_result"
    }
   ],
   "source": [
    "# verileri düzenleme decode\n",
    "prediction = decode_predictions(prediction, top=3)[0] \n",
    "prediction"
   ]
  },
  {
   "cell_type": "markdown",
   "id": "92608835",
   "metadata": {},
   "source": [
    "## VGG16"
   ]
  },
  {
   "cell_type": "code",
   "execution_count": 9,
   "id": "07b04512",
   "metadata": {},
   "outputs": [],
   "source": [
    "from tensorflow.keras.applications.vgg16 import VGG16\n",
    "from tensorflow.keras.applications.vgg16 import preprocess_input, decode_predictions\n",
    "from tensorflow.keras.preprocessing import image\n",
    "import numpy as np"
   ]
  },
  {
   "cell_type": "code",
   "execution_count": 10,
   "id": "1c4d5aec",
   "metadata": {},
   "outputs": [],
   "source": [
    "model = VGG16(weights=\"imagenet\")"
   ]
  },
  {
   "cell_type": "code",
   "execution_count": 11,
   "id": "80e9c1fe",
   "metadata": {},
   "outputs": [
    {
     "data": {
      "text/plain": [
       "[('n01871265', 'tusker', 0.7663238),\n",
       " ('n02504458', 'African_elephant', 0.18282856),\n",
       " ('n02504013', 'Indian_elephant', 0.050837297)]"
      ]
     },
     "execution_count": 11,
     "metadata": {},
     "output_type": "execute_result"
    }
   ],
   "source": [
    "test_path = \"elephant.jpg\"\n",
    "img = image.load_img(test_path,target_size=(224,224))\n",
    "img = image.img_to_array(img)\n",
    "img = np.expand_dims(img, axis=0)\n",
    "img = preprocess_input(img)\n",
    "\n",
    "prediction = model.predict(img)\n",
    "\n",
    "prediction = decode_predictions(prediction,top=3)[0]\n",
    "prediction"
   ]
  },
  {
   "cell_type": "markdown",
   "id": "648374d8",
   "metadata": {},
   "source": [
    "## VGG19"
   ]
  },
  {
   "cell_type": "code",
   "execution_count": 1,
   "id": "327330a2",
   "metadata": {},
   "outputs": [],
   "source": [
    "from tensorflow.keras.applications.vgg19 import VGG19\n",
    "from tensorflow.keras.applications.vgg19 import preprocess_input, decode_predictions\n",
    "from tensorflow.keras.preprocessing import image\n",
    "import numpy as np"
   ]
  },
  {
   "cell_type": "code",
   "execution_count": 2,
   "id": "3e717a19",
   "metadata": {},
   "outputs": [
    {
     "name": "stdout",
     "output_type": "stream",
     "text": [
      "Downloading data from https://storage.googleapis.com/tensorflow/keras-applications/vgg19/vgg19_weights_tf_dim_ordering_tf_kernels.h5\n",
      "574717952/574710816 [==============================] - 375s 1us/step\n",
      "574726144/574710816 [==============================] - 375s 1us/step\n"
     ]
    }
   ],
   "source": [
    "model = VGG19(weights=\"imagenet\")"
   ]
  },
  {
   "cell_type": "code",
   "execution_count": 4,
   "id": "4e4cbe3e",
   "metadata": {},
   "outputs": [
    {
     "data": {
      "text/plain": [
       "[('n01871265', 'tusker', 0.9038033),\n",
       " ('n02504458', 'African_elephant', 0.055253524),\n",
       " ('n02504013', 'Indian_elephant', 0.04094261)]"
      ]
     },
     "execution_count": 4,
     "metadata": {},
     "output_type": "execute_result"
    }
   ],
   "source": [
    "test_path = \"elephant.jpg\"\n",
    "img = image.load_img(test_path,target_size=(224,224))\n",
    "img = image.img_to_array(img)\n",
    "img = np.expand_dims(img, axis=0)\n",
    "img = preprocess_input(img)\n",
    "\n",
    "prediction = model.predict(img)\n",
    "\n",
    "prediction = decode_predictions(prediction,top=3)[0]\n",
    "prediction"
   ]
  },
  {
   "cell_type": "raw",
   "id": "bacf0da4",
   "metadata": {},
   "source": [
    "Resnet50 => ('n01871265', 'tusker', 0.7192251)\n",
    "VGG16 => ('n01871265', 'tusker', 0.7663238)\n",
    "VGG19 => ('n01871265', 'tusker', 0.9038033)"
   ]
  }
 ],
 "metadata": {
  "kernelspec": {
   "display_name": "Python 3 (ipykernel)",
   "language": "python",
   "name": "python3"
  },
  "language_info": {
   "codemirror_mode": {
    "name": "ipython",
    "version": 3
   },
   "file_extension": ".py",
   "mimetype": "text/x-python",
   "name": "python",
   "nbconvert_exporter": "python",
   "pygments_lexer": "ipython3",
   "version": "3.9.7"
  }
 },
 "nbformat": 4,
 "nbformat_minor": 5
}
