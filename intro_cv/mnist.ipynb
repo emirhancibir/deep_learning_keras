{
 "cells": [
  {
   "cell_type": "code",
   "execution_count": 1,
   "id": "a847944e",
   "metadata": {},
   "outputs": [],
   "source": [
    "# Library\n",
    "from tensorflow.keras.datasets import mnist"
   ]
  },
  {
   "cell_type": "code",
   "execution_count": 2,
   "id": "7f49aa74",
   "metadata": {},
   "outputs": [
    {
     "name": "stdout",
     "output_type": "stream",
     "text": [
      "Shape of train images (60000, 28, 28)\n",
      "Shape of test images (10000, 28, 28)\n"
     ]
    }
   ],
   "source": [
    "# train - test splitting\n",
    "train_images, train_labels = mnist.load_data()[0]\n",
    "test_images, test_labels = mnist.load_data()[1]\n",
    "\n",
    "print(\"Shape of train images\", train_images.shape)\n",
    "print(\"Shape of test images\", test_images.shape)"
   ]
  },
  {
   "cell_type": "code",
   "execution_count": 3,
   "id": "5558e9f5",
   "metadata": {},
   "outputs": [
    {
     "data": {
      "text/plain": [
       "<matplotlib.image.AxesImage at 0x25d858c5610>"
      ]
     },
     "execution_count": 3,
     "metadata": {},
     "output_type": "execute_result"
    },
    {
     "data": {
      "image/png": "[encoded data removed]",
      "text/plain": [
       "<Figure size 432x288 with 1 Axes>"
      ]
     },
     "metadata": {
      "needs_background": "light"
     },
     "output_type": "display_data"
    }
   ],
   "source": [
    "from matplotlib import pyplot as plt\n",
    "plt.imshow(train_images[0], cmap=\"gray\")\n",
    "# plt.show()\n"
   ]
  },
  {
   "cell_type": "code",
   "execution_count": 4,
   "id": "8862e380",
   "metadata": {},
   "outputs": [
    {
     "name": "stdout",
     "output_type": "stream",
     "text": [
      "Shape of train images (60000, 28, 28, 1)\n",
      "Shape of test images (10000, 28, 28, 1)\n"
     ]
    }
   ],
   "source": [
    "# preparing data\n",
    "\n",
    "\"\"\"\n",
    "3D --> 4D\n",
    "Normalization --> /255\n",
    "\"\"\"\n",
    "# 3D --> 4D\n",
    "train_images = train_images.reshape(train_images.shape[0],28,28,1)\n",
    "test_images = test_images.reshape(test_images.shape[0],28,28,1)\n",
    "print(\"Shape of train images\", train_images.shape)\n",
    "print(\"Shape of test images\", test_images.shape)\n",
    "\n",
    "\n",
    "# type casting\n",
    "train_images = train_images.astype(\"float32\")\n",
    "test_images = test_images.astype(\"float32\")\n",
    "\n",
    "\n",
    "# Normalization --> /255 --- 0 ile 1 arasına sıkıstırma\n",
    "train_images /= 255\n",
    "test_images /= 255\n"
   ]
  },
  {
   "cell_type": "code",
   "execution_count": 5,
   "id": "b3ba84bb",
   "metadata": {},
   "outputs": [],
   "source": [
    "input_shape = (28,28,1)"
   ]
  },
  {
   "cell_type": "code",
   "execution_count": 6,
   "id": "11e2ca03",
   "metadata": {},
   "outputs": [],
   "source": [
    "# libraries\n",
    "from keras.models import Sequential\n",
    "from keras.layers import Conv2D, Dense, Dropout, Flatten, MaxPooling2D\n",
    "\n",
    "# creating networks\n",
    "model = Sequential()\n",
    "\n",
    "model.add(Conv2D(28,kernel_size=(3,3),input_shape= input_shape))\n",
    "model.add(MaxPooling2D(pool_size=(2,2)))\n",
    "model.add(Flatten())\n",
    "model.add(Dense(128, activation=\"relu\"))\n",
    "model.add(Dropout(0.2))\n",
    "model.add(Dense(10, activation=\"softmax\")) # kac cikti olabilir o yazılır 0,9 arası rakmalr max 9 cikti olabilir.\n",
    "# softmax fonk. -1,1 arası degisir ve bir olasılık degeri uretir"
   ]
  },
  {
   "cell_type": "code",
   "execution_count": 7,
   "id": "f90d8472",
   "metadata": {},
   "outputs": [
    {
     "name": "stdout",
     "output_type": "stream",
     "text": [
      "Model: \"sequential\"\n",
      "_________________________________________________________________\n",
      " Layer (type)                Output Shape              Param #   \n",
      "=================================================================\n",
      " conv2d (Conv2D)             (None, 26, 26, 28)        280       \n",
      "                                                                 \n",
      " max_pooling2d (MaxPooling2D  (None, 13, 13, 28)       0         \n",
      " )                                                               \n",
      "                                                                 \n",
      " flatten (Flatten)           (None, 4732)              0         \n",
      "                                                                 \n",
      " dense (Dense)               (None, 128)               605824    \n",
      "                                                                 \n",
      " dropout (Dropout)           (None, 128)               0         \n",
      "                                                                 \n",
      " dense_1 (Dense)             (None, 10)                1290      \n",
      "                                                                 \n",
      "=================================================================\n",
      "Total params: 607,394\n",
      "Trainable params: 607,394\n",
      "Non-trainable params: 0\n",
      "_________________________________________________________________\n"
     ]
    }
   ],
   "source": [
    "# compiling model\n",
    "\"\"\"\n",
    " “adam” (Adaptive Moment Estimation) algoritması, her bir parametre için gerçek zamanlı olarak öğrenme oranını günceller.\n",
    "\"\"\"\n",
    "model.compile(optimizer=\"adam\",\n",
    "             loss=\"sparse_categorical_crossentropy\",\n",
    "              metrics= [\"accuracy\"])\n",
    "model.summary()"
   ]
  },
  {
   "cell_type": "code",
   "execution_count": 8,
   "id": "428d1464",
   "metadata": {},
   "outputs": [
    {
     "name": "stdout",
     "output_type": "stream",
     "text": [
      "Epoch 1/10\n",
      "1875/1875 [==============================] - 15s 8ms/step - loss: 0.2087 - accuracy: 0.9374\n",
      "Epoch 2/10\n",
      "1875/1875 [==============================] - 16s 8ms/step - loss: 0.0827 - accuracy: 0.9748\n",
      "Epoch 3/10\n",
      "1875/1875 [==============================] - 15s 8ms/step - loss: 0.0579 - accuracy: 0.9820\n",
      "Epoch 4/10\n",
      "1875/1875 [==============================] - 15s 8ms/step - loss: 0.0431 - accuracy: 0.9857\n",
      "Epoch 5/10\n",
      "1875/1875 [==============================] - 15s 8ms/step - loss: 0.0356 - accuracy: 0.9879\n",
      "Epoch 6/10\n",
      "1875/1875 [==============================] - 15s 8ms/step - loss: 0.0283 - accuracy: 0.9902\n",
      "Epoch 7/10\n",
      "1875/1875 [==============================] - 15s 8ms/step - loss: 0.0231 - accuracy: 0.9920\n",
      "Epoch 8/10\n",
      "1875/1875 [==============================] - 17s 9ms/step - loss: 0.0208 - accuracy: 0.9930\n",
      "Epoch 9/10\n",
      "1875/1875 [==============================] - 16s 8ms/step - loss: 0.0203 - accuracy: 0.9926\n",
      "Epoch 10/10\n",
      "1875/1875 [==============================] - 15s 8ms/step - loss: 0.0174 - accuracy: 0.9939\n"
     ]
    }
   ],
   "source": [
    "# fitting model\n",
    "history = model.fit(x= train_images,\n",
    "                   y= train_labels,\n",
    "                   epochs=10)"
   ]
  },
  {
   "cell_type": "code",
   "execution_count": 9,
   "id": "757b8f7e",
   "metadata": {},
   "outputs": [
    {
     "name": "stdout",
     "output_type": "stream",
     "text": [
      "313/313 [==============================] - 1s 2ms/step - loss: 0.0622 - accuracy: 0.9848\n",
      "Test loss :  0.06215193495154381\n",
      "Test accuracy :  0.9847999811172485\n"
     ]
    }
   ],
   "source": [
    "# evaluating model\n",
    "test_loss, test_accuracy = model.evaluate(test_images, test_labels)\n",
    "print(\"Test loss : \",test_loss)\n",
    "print(\"Test accuracy : \",test_accuracy)\n"
   ]
  },
  {
   "cell_type": "code",
   "execution_count": 10,
   "id": "185b1003",
   "metadata": {},
   "outputs": [
    {
     "name": "stdout",
     "output_type": "stream",
     "text": [
      "dict_keys(['loss', 'accuracy'])\n"
     ]
    }
   ],
   "source": [
    "history_dicts = history.history\n",
    "print(history_dicts.keys())"
   ]
  },
  {
   "cell_type": "code",
   "execution_count": 11,
   "id": "68137973",
   "metadata": {},
   "outputs": [
    {
     "data": {
      "image/png": "[encoded data removed]",
      "text/plain": [
       "<Figure size 432x288 with 1 Axes>"
      ]
     },
     "metadata": {
      "needs_background": "light"
     },
     "output_type": "display_data"
    },
    {
     "data": {
      "image/png": "[encoded data removed]",
      "text/plain": [
       "<Figure size 432x288 with 1 Axes>"
      ]
     },
     "metadata": {
      "needs_background": "light"
     },
     "output_type": "display_data"
    }
   ],
   "source": [
    "# loss, accuracy graph\n",
    "from matplotlib import pyplot as plt\n",
    "\n",
    "epochs = range(1,11)\n",
    "loss= history_dicts[\"loss\"]\n",
    "accuracy = history_dicts[\"accuracy\"]\n",
    "\n",
    "plt.plot(epochs, loss)\n",
    "plt.title(\"loss\")\n",
    "plt.ylabel(\"loss score\")\n",
    "plt.xlabel(\"epochs\")\n",
    "plt.show()\n",
    "\n",
    "plt.plot(epochs, accuracy)\n",
    "plt.title(\"Accuracy\")\n",
    "plt.ylabel(\"Accuracy score\")\n",
    "plt.xlabel(\"epochs\")\n",
    "plt.show()"
   ]
  },
  {
   "cell_type": "code",
   "execution_count": 12,
   "id": "030aea85",
   "metadata": {},
   "outputs": [],
   "source": [
    "# saving model\n",
    "model.save(\"model_mnist.h5\") # h5 uzantılı olmalı"
   ]
  },
  {
   "cell_type": "code",
   "execution_count": 16,
   "id": "a3766076",
   "metadata": {},
   "outputs": [
    {
     "name": "stdout",
     "output_type": "stream",
     "text": [
      "predicted number :  4\n"
     ]
    },
    {
     "data": {
      "image/png": "[encoded data removed]",
      "text/plain": [
       "<Figure size 432x288 with 1 Axes>"
      ]
     },
     "metadata": {
      "needs_background": "light"
     },
     "output_type": "display_data"
    },
    {
     "data": {
      "text/plain": [
       "array([[3.3326104e-19, 1.3405440e-07, 4.3403672e-17, 3.7478826e-12,\n",
       "        9.9973267e-01, 1.1035121e-17, 3.5670116e-15, 2.6721082e-04,\n",
       "        3.2524403e-10, 2.1202435e-08]], dtype=float32)"
      ]
     },
     "execution_count": 16,
     "metadata": {},
     "output_type": "execute_result"
    }
   ],
   "source": [
    "# loading model and prediction\n",
    "from keras.models import load_model\n",
    "import random\n",
    "\n",
    "model = load_model(\"model_mnist.h5\")\n",
    "\n",
    "i = random.randint(1,5000)\n",
    "\n",
    "prediction = model.predict(test_images[i].reshape(1,28,28,1))\n",
    "print(\"predicted number : \", prediction.argmax()) # argmax() en yüksek degerin indexini verir\n",
    "\n",
    "plt.imshow(test_images[i].reshape(28,28), cmap=\"gray_r\")\n",
    "plt.show()\n",
    "\n",
    "\n",
    "\n",
    "\n"
   ]
  }
 ],
 "metadata": {
  "kernelspec": {
   "display_name": "Python 3 (ipykernel)",
   "language": "python",
   "name": "python3"
  },
  "language_info": {
   "codemirror_mode": {
    "name": "ipython",
    "version": 3
   },
   "file_extension": ".py",
   "mimetype": "text/x-python",
   "name": "python",
   "nbconvert_exporter": "python",
   "pygments_lexer": "ipython3",
   "version": "3.9.7"
  }
 },
 "nbformat": 4,
 "nbformat_minor": 5
}
