{
 "cells": [
  {
   "cell_type": "markdown",
   "id": "d0ead838",
   "metadata": {},
   "source": [
    "# 1. Creating Model"
   ]
  },
  {
   "cell_type": "code",
   "execution_count": null,
   "id": "70c802a9",
   "metadata": {},
   "outputs": [],
   "source": [
    "from keras import layers\n",
    "from keras.models import Sequential"
   ]
  },
  {
   "cell_type": "code",
   "execution_count": null,
   "id": "5b15a794",
   "metadata": {},
   "outputs": [],
   "source": [
    "model = Sequential()\n",
    "\n",
    "model.add(layers.Conv2D(32,(3,3),activation=\"relu\", input_shape = (150,150,3)))\n",
    "model.add(layers.MaxPooling2D((2,2)))\n",
    "\n",
    "model.add(layers.Conv2D(64,(3,3),activation=\"relu\"))\n",
    "model.add(layers.MaxPooling2D((2,2)))\n",
    "\n",
    "model.add(layers.Conv2D(128,(3,3),activation=\"relu\"))\n",
    "model.add(layers.MaxPooling2D((2,2)))\n",
    "\n",
    "model.add(layers.Conv2D(128,(3,3),activation=\"relu\"))\n",
    "model.add(layers.MaxPooling2D((2,2)))\n",
    "\n",
    "model.add(layers.Flatten())\n",
    "\n",
    "model.add(layers.Dense(512, activation=\"relu\"))\n",
    "model.add(layers.Dense(1, activation=\"sigmoid\"))\n",
    "\n"
   ]
  },
  {
   "cell_type": "code",
   "execution_count": null,
   "id": "2f2fb611",
   "metadata": {
    "scrolled": true
   },
   "outputs": [],
   "source": [
    "model.summary()"
   ]
  },
  {
   "cell_type": "markdown",
   "id": "eeae153a",
   "metadata": {},
   "source": [
    "# 2. Compiling Model"
   ]
  },
  {
   "cell_type": "code",
   "execution_count": null,
   "id": "fe5db4a7",
   "metadata": {},
   "outputs": [],
   "source": [
    "from tensorflow.keras import optimizers\n",
    "\n",
    "model.compile(loss=\"binary_crossentropy\",\n",
    "             optimizer= optimizers.RMSprop(learning_rate = 1e-4),\n",
    "             metrics=[\"acc\"])"
   ]
  },
  {
   "cell_type": "markdown",
   "id": "38bf363f",
   "metadata": {},
   "source": [
    "# 3. Data Generation"
   ]
  },
  {
   "cell_type": "code",
   "execution_count": null,
   "id": "087e9587",
   "metadata": {},
   "outputs": [],
   "source": [
    "from keras.preprocessing.image import ImageDataGenerator\n",
    "\n",
    "train_datagen = ImageDataGenerator(rescale= 1./255)\n",
    "validation_datagen = ImageDataGenerator(rescale= 1./255)"
   ]
  },
  {
   "cell_type": "code",
   "execution_count": null,
   "id": "036efe16",
   "metadata": {},
   "outputs": [],
   "source": [
    "train_directory = \"datasets/catdog/train\"\n",
    "validation_directory = \"datasets/catdog/validation\""
   ]
  },
  {
   "cell_type": "code",
   "execution_count": null,
   "id": "f28a8e14",
   "metadata": {},
   "outputs": [],
   "source": [
    "train_generator = train_datagen.flow_from_directory(train_directory,target_size=(150,150),batch_size=20,class_mode=\"binary\")\n",
    "validation_generator = validation_datagen.flow_from_directory(validation_directory,target_size=(150,150),batch_size=20,class_mode=\"binary\")\n"
   ]
  },
  {
   "cell_type": "markdown",
   "id": "aca2d799",
   "metadata": {},
   "source": [
    "# 4. Training"
   ]
  },
  {
   "cell_type": "code",
   "execution_count": null,
   "id": "ab92b5e8",
   "metadata": {},
   "outputs": [],
   "source": [
    "history = model.fit(train_generator,epochs=20, validation_data= validation_generator, validation_steps=50)\n"
   ]
  },
  {
   "cell_type": "markdown",
   "id": "7a90e02f",
   "metadata": {},
   "source": [
    "# 5. Visualization"
   ]
  },
  {
   "cell_type": "code",
   "execution_count": null,
   "id": "adf5238e",
   "metadata": {},
   "outputs": [],
   "source": [
    "import matplotlib.pyplot as plt\n",
    "import numpy as np\n",
    "\n",
    "plt.style.use(\"seaborn-darkgrid\")\n",
    "plt.figure()\n",
    "\n",
    "epochs = np.arange(0,20)\n",
    "\n",
    "plt.plot(epochs, history.history[\"loss\"], label = \"train_loss\")\n",
    "plt.plot(epochs, history.history[\"val_loss\"], label = \"val_loss\")\n",
    "\n",
    "plt.plot(epochs, history.history[\"acc\"], label = \"train_acc\")\n",
    "plt.plot(epochs, history.history[\"val_acc\"], label = \"val_acc\")\n",
    "\n",
    "plt.title(\"Training | loss & acc\")\n",
    "plt.xlabel(\"20 - Epoch\")\n",
    "plt.ylabel(\"loss - acc\")\n",
    "plt.legend(loc=\"lower left\")\n",
    "# Degerler birbirine yakınsamıyor OVERFITTING problemi var. "
   ]
  },
  {
   "cell_type": "markdown",
   "id": "d6dfec71",
   "metadata": {},
   "source": [
    "Problem: Overfitting\n",
    "    \n",
    "    1. New Model\n",
    "    2. Data Augmentation"
   ]
  },
  {
   "cell_type": "code",
   "execution_count": null,
   "id": "422bc9f9",
   "metadata": {},
   "outputs": [],
   "source": [
    "# Saving First Model\n",
    "model.save(\"models/cat_dog_first.h5\")"
   ]
  },
  {
   "cell_type": "markdown",
   "id": "3ac87514",
   "metadata": {},
   "source": [
    "# 6. Creating New Model"
   ]
  },
  {
   "cell_type": "code",
   "execution_count": null,
   "id": "698aa8d6",
   "metadata": {},
   "outputs": [],
   "source": [
    "model_n = Sequential()\n",
    "\n",
    "model_n.add(layers.Conv2D(32,(3,3),activation=\"relu\", input_shape = (150,150,3)))\n",
    "model_n.add(layers.MaxPooling2D((2,2)))\n",
    "\n",
    "model_n.add(layers.Conv2D(64,(3,3),activation=\"relu\"))\n",
    "model_n.add(layers.MaxPooling2D((2,2)))\n",
    "\n",
    "model_n.add(layers.Conv2D(128,(3,3),activation=\"relu\"))\n",
    "model_n.add(layers.MaxPooling2D((2,2)))\n",
    "\n",
    "model_n.add(layers.Conv2D(128,(3,3),activation=\"relu\"))\n",
    "model_n.add(layers.MaxPooling2D((2,2)))\n",
    "\n",
    "model_n.add(layers.Flatten())\n",
    "model_n.add(layers.Dropout(0.4))\n",
    "\n",
    "model_n.add(layers.Dense(512, activation=\"relu\"))\n",
    "model_n.add(layers.Dense(1, activation=\"sigmoid\"))\n",
    "\n",
    "model_n.summary()"
   ]
  },
  {
   "cell_type": "markdown",
   "id": "c754e774",
   "metadata": {},
   "source": [
    "# 7. Compiling New Model"
   ]
  },
  {
   "cell_type": "code",
   "execution_count": null,
   "id": "c7546644",
   "metadata": {},
   "outputs": [],
   "source": [
    "model_n.compile(loss=\"binary_crossentropy\",\n",
    "                optimizer= optimizers.RMSprop(learning_rate = 1e-4),\n",
    "                metrics=[\"acc\"])"
   ]
  },
  {
   "cell_type": "markdown",
   "id": "d5a88e6b",
   "metadata": {},
   "source": [
    "# 8. Image Data Augmentation"
   ]
  },
  {
   "cell_type": "code",
   "execution_count": null,
   "id": "3c1664ba",
   "metadata": {},
   "outputs": [],
   "source": [
    "train_datagen_n = ImageDataGenerator(rescale=1./255,\n",
    "                                      rotation_range=45,\n",
    "                                      width_shift_range=0.3,\n",
    "                                      height_shift_range=0.3,\n",
    "                                      shear_range=0.3,\n",
    "                                      zoom_range=0.3,\n",
    "                                      horizontal_flip=True,\n",
    "                                      vertical_flip=True,\n",
    "                                      fill_mode=\"nearest\")\n",
    "validation_datagen_n = ImageDataGenerator(rescale=1./255)"
   ]
  },
  {
   "cell_type": "code",
   "execution_count": null,
   "id": "42b21b4b",
   "metadata": {},
   "outputs": [],
   "source": [
    "train_generator_n =  train_datagen_n.flow_from_directory(train_directory,\n",
    "                                                         target_size=(150,150),\n",
    "                                                         batch_size=16,\n",
    "                                                         class_mode=\"binary\")\n",
    "validation_generator_n = validation_datagenr_n.flow_from_directory(validation_directory,\n",
    "                                                                   target_size=(150,150),\n",
    "                                                                   batch_size=16,\n",
    "                                                                   class_mode=\"binary\")"
   ]
  },
  {
   "cell_type": "markdown",
   "id": "c4c4af1d",
   "metadata": {},
   "source": [
    "# 9. Fitting New Model"
   ]
  },
  {
   "cell_type": "code",
   "execution_count": null,
   "id": "536a6538",
   "metadata": {},
   "outputs": [],
   "source": [
    "history_n = model_n.fit(train_generator_n,\n",
    "                        steps_per_epoch=100,\n",
    "                        epochs=100, \n",
    "                        validation_data= validation_generator_n, \n",
    "                        validation_steps=50)\n",
    "print(\"info : Done!\")"
   ]
  },
  {
   "cell_type": "markdown",
   "id": "47622d8a",
   "metadata": {},
   "source": [
    "# 10. Visualization New Model"
   ]
  },
  {
   "cell_type": "code",
   "execution_count": null,
   "id": "e4b1439e",
   "metadata": {},
   "outputs": [],
   "source": [
    "import matplotlib.pyplot as plt\n",
    "import numpy as np\n",
    "\n",
    "plt.style.use(\"seaborn-darkgrid\")\n",
    "plt.figure()\n",
    "\n",
    "epochs_n = np.arange(0,100)\n",
    "\n",
    "plt.plot(epochs_n, history_n.history[\"loss\"], label = \"train_loss\")\n",
    "plt.plot(epochs_n, history_n.history[\"val_loss\"], label = \"val_loss\")\n",
    "\n",
    "plt.plot(epochs_n, history_n.history[\"acc\"], label = \"train_acc\")\n",
    "plt.plot(epochs_n, history_n.history[\"val_acc\"], label = \"val_acc\")\n",
    "\n",
    "plt.title(\"Training | loss & acc\")\n",
    "plt.xlabel(\"100 - Epoch\")\n",
    "plt.ylabel(\"loss - acc\")\n",
    "plt.legend(loc=\"lower left\")\n",
    "\n",
    "plt.savefig(\"cat_dog_training_graph.jpg\")"
   ]
  },
  {
   "cell_type": "code",
   "execution_count": null,
   "id": "a5daebb3",
   "metadata": {},
   "outputs": [],
   "source": [
    "model_n.save(\"models/cat_dog_last.h5\")"
   ]
  },
  {
   "cell_type": "markdown",
   "id": "87964bbd",
   "metadata": {},
   "source": [
    "# PREDICTION"
   ]
  },
  {
   "cell_type": "code",
   "execution_count": 9,
   "id": "0edca13b",
   "metadata": {},
   "outputs": [],
   "source": [
    "# library\n",
    "from keras.preprocessing.image import load_img, img_to_array\n",
    "from keras.models import load_model\n",
    "import numpy as np"
   ]
  },
  {
   "cell_type": "code",
   "execution_count": 10,
   "id": "b7e2e638",
   "metadata": {},
   "outputs": [],
   "source": [
    "model_path = \"models/cat_dog_last.h5\"\n",
    "image_path = \"datasets/catdog/test/cats/1503.jpg\""
   ]
  },
  {
   "cell_type": "code",
   "execution_count": 11,
   "id": "e4664c99",
   "metadata": {},
   "outputs": [],
   "source": [
    "prediction_model = load_model(model_path)\n",
    "test_img = load_img(image_path, target_size=(150,150)) # bizim modelimiz 150 150 de calıstıgı icin "
   ]
  },
  {
   "cell_type": "code",
   "execution_count": 12,
   "id": "7b3eb6ea",
   "metadata": {},
   "outputs": [
    {
     "name": "stdout",
     "output_type": "stream",
     "text": [
      "<PIL.Image.Image image mode=RGB size=150x150 at 0x1AB780FBB20>\n"
     ]
    },
    {
     "data": {
      "image/png": "[encoded data removed]",
      "text/plain": [
       "<PIL.Image.Image image mode=RGB size=150x150 at 0x1AB780FBB20>"
      ]
     },
     "execution_count": 12,
     "metadata": {},
     "output_type": "execute_result"
    }
   ],
   "source": [
    "print(test_img)\n",
    "test_img"
   ]
  },
  {
   "cell_type": "code",
   "execution_count": 13,
   "id": "68965549",
   "metadata": {},
   "outputs": [
    {
     "data": {
      "text/plain": [
       "(150, 150, 3)"
      ]
     },
     "execution_count": 13,
     "metadata": {},
     "output_type": "execute_result"
    }
   ],
   "source": [
    "test_img = img_to_array(test_img)\n",
    "test_img.shape"
   ]
  },
  {
   "cell_type": "code",
   "execution_count": 14,
   "id": "38db4d84",
   "metadata": {},
   "outputs": [
    {
     "data": {
      "text/plain": [
       "(1, 150, 150, 3)"
      ]
     },
     "execution_count": 14,
     "metadata": {},
     "output_type": "execute_result"
    }
   ],
   "source": [
    "# 3D -> 4D\n",
    "test_img = np.expand_dims(test_img, axis=0)\n",
    "test_img.shape\n",
    "# key-value cats:0 ; dogs : 1"
   ]
  },
  {
   "cell_type": "code",
   "execution_count": 15,
   "id": "d0cdd051",
   "metadata": {},
   "outputs": [
    {
     "data": {
      "text/plain": [
       "array([[0.]], dtype=float32)"
      ]
     },
     "execution_count": 15,
     "metadata": {},
     "output_type": "execute_result"
    }
   ],
   "source": [
    "result = prediction_model.predict(test_img)\n",
    "result"
   ]
  },
  {
   "cell_type": "code",
   "execution_count": 16,
   "id": "93ed49b2",
   "metadata": {},
   "outputs": [
    {
     "name": "stdout",
     "output_type": "stream",
     "text": [
      "This is a  Cat\n"
     ]
    }
   ],
   "source": [
    "if result[0][0] >= 0.7:\n",
    "    label = \"Dog\"\n",
    "    print(\"This is a \",label)\n",
    "else:\n",
    "    label = \"Cat\"\n",
    "    print(\"This is a \",label)"
   ]
  },
  {
   "cell_type": "code",
   "execution_count": 17,
   "id": "ceead116",
   "metadata": {},
   "outputs": [],
   "source": [
    "import cv2\n",
    "\n",
    "font = cv2.FONT_HERSHEY_COMPLEX\n",
    "color = (0,0,255)\n",
    "test_img = cv2.imread(image_path)\n",
    "\n",
    "cv2.putText(test_img,label,(20,40),font,1,color, 3)\n",
    "\n",
    "cv2.imshow(\"prediction\",test_img)\n",
    "\n",
    "cv2.waitKey(0)\n",
    "cv2.destroyAllWindows()"
   ]
  },
  {
   "cell_type": "code",
   "execution_count": null,
   "id": "f17b00f7",
   "metadata": {},
   "outputs": [],
   "source": []
  }
 ],
 "metadata": {
  "kernelspec": {
   "display_name": "Python 3 (ipykernel)",
   "language": "python",
   "name": "python3"
  },
  "language_info": {
   "codemirror_mode": {
    "name": "ipython",
    "version": 3
   },
   "file_extension": ".py",
   "mimetype": "text/x-python",
   "name": "python",
   "nbconvert_exporter": "python",
   "pygments_lexer": "ipython3",
   "version": "3.9.7"
  }
 },
 "nbformat": 4,
 "nbformat_minor": 5
}
