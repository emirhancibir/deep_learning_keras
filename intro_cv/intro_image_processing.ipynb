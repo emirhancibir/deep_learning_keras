{
 "cells": [
  {
   "cell_type": "code",
   "execution_count": 2,
   "id": "f041f478",
   "metadata": {},
   "outputs": [],
   "source": [
    "# library\n",
    "import cv2 \n",
    "import numpy as np"
   ]
  },
  {
   "cell_type": "code",
   "execution_count": 8,
   "id": "1be6bbac",
   "metadata": {},
   "outputs": [],
   "source": [
    "# reading, saving, displaying img\n",
    "img = cv2.imread(\"datasets/lena.jpg\")\n",
    "\n",
    "cv2.imshow(\"img\",img)\n",
    "cv2.waitKey(0)\n",
    "cv2.destroyAllWindows()"
   ]
  },
  {
   "cell_type": "code",
   "execution_count": 15,
   "id": "2d5636af",
   "metadata": {},
   "outputs": [
    {
     "name": "stdout",
     "output_type": "stream",
     "text": [
      "img (512, 512, 3)\n",
      "gray (512, 512)\n"
     ]
    }
   ],
   "source": [
    "#colorspaces\n",
    "img = cv2.imread(\"datasets/lena.jpg\")\n",
    "print(\"img\",img.shape)\n",
    "\n",
    "gray = cv2.cvtColor(img,cv2.COLOR_BGR2GRAY)\n",
    "print(\"gray\",gray.shape)\n",
    "\n",
    "cv2.imshow(\"img\",img)\n",
    "cv2.imshow(\"gray\",gray)\n",
    "\n",
    "cv2.waitKey(0)\n",
    "cv2.destroyAllWindows()"
   ]
  },
  {
   "cell_type": "code",
   "execution_count": 28,
   "id": "4e935997",
   "metadata": {},
   "outputs": [
    {
     "name": "stdout",
     "output_type": "stream",
     "text": [
      "(512, 512, 3)\n"
     ]
    }
   ],
   "source": [
    "#roi\n",
    "img = cv2.imread(\"datasets/lena.jpg\")\n",
    "face = img[200:390,200:390]\n",
    "cv2.imshow(\"img\",img)\n",
    "cv2.imshow(\"face\",face)\n",
    "\n",
    "cv2.waitKey(0)\n",
    "cv2.destroyAllWindows()\n"
   ]
  },
  {
   "cell_type": "code",
   "execution_count": 18,
   "id": "df069b16",
   "metadata": {},
   "outputs": [],
   "source": [
    "#drawing functions - line\n",
    "color = (0,0,255)\n",
    "canvas = np.zeros((512,512,3),dtype = np.uint8) +255\n",
    "\n",
    "cv2.line(canvas,(0,0),(256,256),color,2)\n",
    "cv2.imshow(\"canvas\",canvas)\n",
    "\n",
    "cv2.waitKey(0)\n",
    "cv2.destroyAllWindows()"
   ]
  },
  {
   "cell_type": "code",
   "execution_count": 20,
   "id": "6cdb684c",
   "metadata": {},
   "outputs": [],
   "source": [
    "# drawing functions - circle\n",
    "color = (0,0,255)\n",
    "canvas = np.zeros((512,512,3),dtype = np.uint8) +255\n",
    "\n",
    "cv2.circle(canvas,(256,256),50,color,-1)\n",
    "cv2.imshow(\"canvas\",canvas)\n",
    "\n",
    "cv2.waitKey(0)\n",
    "cv2.destroyAllWindows()"
   ]
  },
  {
   "cell_type": "code",
   "execution_count": 37,
   "id": "481e1317",
   "metadata": {},
   "outputs": [],
   "source": [
    "import cv2\n",
    "\n",
    "cap = cv2.VideoCapture(\"datasets/smile.mp4\")\n",
    "while 1:\n",
    "    ret,frame = cap.read()\n",
    "    if ret == 0 :\n",
    "        break\n",
    "    frame = cv2.resize(frame,(640,480))\n",
    "    cv2.imshow(\"frame\",frame)\n",
    "    if cv2.waitKey(20) & 0xFF == ord(\"q\"):\n",
    "        break\n",
    "cap.release()\n",
    "cv2.destroyAllWindows()"
   ]
  }
 ],
 "metadata": {
  "kernelspec": {
   "display_name": "Python 3 (ipykernel)",
   "language": "python",
   "name": "python3"
  },
  "language_info": {
   "codemirror_mode": {
    "name": "ipython",
    "version": 3
   },
   "file_extension": ".py",
   "mimetype": "text/x-python",
   "name": "python",
   "nbconvert_exporter": "python",
   "pygments_lexer": "ipython3",
   "version": "3.9.7"
  }
 },
 "nbformat": 4,
 "nbformat_minor": 5
}
